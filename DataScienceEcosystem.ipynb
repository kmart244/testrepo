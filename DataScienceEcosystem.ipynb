{
 "cells": [
  {
   "cell_type": "markdown",
   "id": "1462011a-d5eb-4a9e-982e-381b5147fffe",
   "metadata": {},
   "source": [
    "# Data Science Tools and Ecosystem\n",
    "## In this notebook, Data Science Tools and Ecosystem are summarized. \n",
    "**Objectives**\n",
    "- Jupyter Notebooks are used in Data Science for recording experiments and projects.\n",
    "- JupyterLite is a browser-based tool.\n",
    "- Popular data visualization packages in R."
   ]
  },
  {
   "cell_type": "markdown",
   "id": "b4888ed2-058f-45bc-a9f1-a1a228502312",
   "metadata": {},
   "source": [
    "# Some of the popular languages of Data Scientist use are:\n",
    "- Python\n",
    "- SQL\n",
    "- R\n",
    "\n"
   ]
  },
  {
   "cell_type": "markdown",
   "id": "4fb887c4-1284-4344-92ca-6e807f14f632",
   "metadata": {},
   "source": [
    "# Some of the commonly used libraries used by Data Scientist are:\n",
    "- Python Libraries : Sceintific Computing\n",
    "- Python Libraries : Visualization \n",
    "- Python Libraries : Machine and Deep Learning\n"
   ]
  },
  {
   "cell_type": "markdown",
   "id": "4e97d4d4-2986-44d4-ba3f-9669eeaf6dff",
   "metadata": {},
   "source": [
    "\n",
    "| Data Science tools | \n",
    "| -------------|\n",
    "| Jupyter | \n",
    "| Github |\n",
    "| Rstudio | "
   ]
  },
  {
   "cell_type": "markdown",
   "id": "47482434-ef35-45d5-a62a-4bf7d7d7ff9c",
   "metadata": {},
   "source": [
    "### Below are a few examples of evaluating arithmetic expressions in Python\n"
   ]
  },
  {
   "cell_type": "code",
   "execution_count": null,
   "id": "d22457df-7d39-454a-b434-585b09728576",
   "metadata": {},
   "outputs": [],
   "source": [
    "x = 3\n",
    "y = 4\n",
    "z = 5\n",
    "k = (x * y) + z"
   ]
  },
  {
   "cell_type": "code",
   "execution_count": 1,
   "id": "50d80ec4-55a4-4f9d-b3cc-d7b566f31f39",
   "metadata": {},
   "outputs": [
    {
     "data": {
      "text/plain": [
       "17"
      ]
     },
     "execution_count": 1,
     "metadata": {},
     "output_type": "execute_result"
    }
   ],
   "source": [
    "## This a simple arithmetic expression to mutiply then add integers\n",
    "(3*4)+5"
   ]
  },
  {
   "cell_type": "code",
   "execution_count": 2,
   "id": "600b441f-8cfa-4b72-9c7e-f818a6629690",
   "metadata": {},
   "outputs": [
    {
     "data": {
      "text/plain": [
       "3.3333333333333335"
      ]
     },
     "execution_count": 2,
     "metadata": {},
     "output_type": "execute_result"
    }
   ],
   "source": [
    "## This will convert 200 minutes to hours by diving by 60\n",
    "200/60"
   ]
  },
  {
   "cell_type": "markdown",
   "id": "0a2e671a-8c4a-4ca8-9e78-ec9fffdc3087",
   "metadata": {},
   "source": [
    "## Author\n",
    "## Kia Martin"
   ]
  },
  {
   "cell_type": "code",
   "execution_count": null,
   "id": "c76c161d-f011-4398-a299-1c893c49b515",
   "metadata": {},
   "outputs": [],
   "source": []
  }
 ],
 "metadata": {
  "kernelspec": {
   "display_name": "Python 3 (ipykernel)",
   "language": "python",
   "name": "python3"
  },
  "language_info": {
   "codemirror_mode": {
    "name": "ipython",
    "version": 3
   },
   "file_extension": ".py",
   "mimetype": "text/x-python",
   "name": "python",
   "nbconvert_exporter": "python",
   "pygments_lexer": "ipython3",
   "version": "3.11.7"
  }
 },
 "nbformat": 4,
 "nbformat_minor": 5
}
